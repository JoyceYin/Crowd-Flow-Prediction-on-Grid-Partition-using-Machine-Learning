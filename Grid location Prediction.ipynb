{
 "cells": [
  {
   "cell_type": "code",
   "execution_count": 1,
   "id": "6e7b2a72",
   "metadata": {},
   "outputs": [],
   "source": [
    "import pandas as pd\n",
    "import numpy as np\n",
    "from matplotlib import pyplot as plt\n",
    "# import reverse_geocoder as rg\n",
    "import time\n",
    "import datetime\n",
    "from chinese_calendar import is_workday,is_holiday,get_holiday_detail\n",
    "\n",
    "from sklearn import model_selection\n",
    "from sklearn.tree import DecisionTreeClassifier\n",
    "from sklearn.linear_model import LinearRegression\n",
    "from sklearn.neighbors import KNeighborsRegressor\n",
    "from sklearn.linear_model import LogisticRegression \n",
    "from sklearn.svm import SVR\n",
    "from sklearn.linear_model import Lasso\n",
    "from sklearn.linear_model import Ridge\n",
    "from sklearn.neural_network import MLPRegressor\n",
    "from sklearn.tree import DecisionTreeRegressor\n",
    "from sklearn.tree import ExtraTreeRegressor\n",
    "from sklearn.ensemble import RandomForestRegressor\n",
    "from sklearn.ensemble import AdaBoostRegressor\n",
    "from sklearn.ensemble import GradientBoostingRegressor\n",
    "from sklearn.ensemble import BaggingRegressor\n",
    "\n",
    "from sklearn.preprocessing import StandardScaler # standardlization\n",
    "from sklearn import preprocessing  # normalization\n",
    "from sklearn import metrics\n",
    "from sklearn import linear_model"
   ]
  },
  {
   "cell_type": "markdown",
   "id": "5e1ee006",
   "metadata": {},
   "source": [
    "## Data Preprocessing"
   ]
  },
  {
   "cell_type": "code",
   "execution_count": 2,
   "id": "06297e0f",
   "metadata": {
    "scrolled": true
   },
   "outputs": [],
   "source": [
    "# load dataset\n",
    "df = pd.read_csv('grid_prediction.txt',sep = '|')\n",
    "# drop the missing value\n",
    "df = df[df['datatim'] != '\\\\N']\n",
    "# df = df.dropna(axis=0,how='any')\n",
    "# transfer the string format into date time format\n",
    "df['datatim'] = pd.to_datetime(df['datatim'])"
   ]
  },
  {
   "cell_type": "markdown",
   "id": "2f3a9451",
   "metadata": {},
   "source": [
    "### Derive some categorical attributes from data time"
   ]
  },
  {
   "cell_type": "code",
   "execution_count": 3,
   "id": "0d6b69ed",
   "metadata": {},
   "outputs": [],
   "source": [
    "# input: dataframe\n",
    "# example: add_element(df)\n",
    "def add_element(dataset):\n",
    "    weekend = []\n",
    "    holiday = []\n",
    "    time_ = []\n",
    "    for i in dataset['datatim']:\n",
    "        # time in \"00:00:00\" to \"06:00:00\" : early morning\n",
    "        if datetime.time(0, 0, 0) < i.time() < datetime.time(6, 0, 0):\n",
    "            time_.append('early morning')\n",
    "        # time in \"6:00:00\" to \"12:00:00\" : morning\n",
    "        elif datetime.time(6, 0, 0) < i.time() < datetime.time(12, 0, 0):\n",
    "            time_.append('morning')\n",
    "        # time in \"12:00:00\" to \"18:00:00\" : afternoon\n",
    "        elif datetime.time(12, 0, 0) < i.time() < datetime.time(18, 0, 0):\n",
    "            time_.append('afternoon')\n",
    "        # time in \"18:00:00\" to \"24:00:00\" : evening\n",
    "        else:\n",
    "            time_.append('evening')\n",
    "            \n",
    "        date = time.strptime(str(i),'%Y-%m-%d %H:%M:%S')\n",
    "\n",
    "        # check whether is weekend or not\n",
    "        if date.tm_wday < 5:\n",
    "            weekend.append(False)\n",
    "        else:\n",
    "            weekend.append(True)\n",
    "\n",
    "        # check whether is holiday or not\n",
    "        if is_holiday(i) and get_holiday_detail(i)[1] != None:\n",
    "            holiday.append(True)\n",
    "        else:\n",
    "            holiday.append(False)\n",
    "            \n",
    "    dataset.insert(1,'weekend',weekend)\n",
    "    dataset.insert(2,'holiday',holiday)\n",
    "    dataset.insert(3,'time',time_)\n",
    "    \n",
    "    hour = [int(i.split(\" \")[1].split(\":\")[0]) for i in dataset.datatim.astype('str')]\n",
    "    minu = [int(i.split(\" \")[1].split(\":\")[1]) for i in dataset.datatim.astype('str')]\n",
    "    \n",
    "    dataset.insert(1,'hour',hour)\n",
    "    dataset.insert(2,'minute',minu)\n",
    "    dataset.insert(3, 'hourfloat',dataset.hour+dataset.minute/60)\n",
    "    dataset.insert(4, 'x', np.sin(2.*np.pi*dataset.hourfloat/24.))\n",
    "    dataset.insert(5, 'y', np.cos(2.*np.pi*dataset.hourfloat/24.))\n",
    "\n",
    "    #add day of week categorical attributes\n",
    "    idlist = [0,1,2,3,4,5,6]\n",
    "    day = ['Sun','Mon','Tue','Wed','Thur','Fri','Sat']\n",
    "    match = pd.DataFrame({'id':idlist, 'day':day})\n",
    "\n",
    "    dataset.datatim = pd.to_datetime(dataset.datatim)\n",
    "    day_of_week = [match.loc[i.weekday(),'day'] for i in dataset.datatim]\n",
    "    dataset.insert(1,'day_of_week',day_of_week)\n",
    "\n",
    "    #check cyclic attribute\n",
    "    #data_new.sample(50).plot.scatter('x','y').set_aspect('equal') \n",
    "    return dataset"
   ]
  },
  {
   "cell_type": "markdown",
   "id": "879cab40",
   "metadata": {},
   "source": [
    "### Calculate crowd flow (cnt) after 15 mins"
   ]
  },
  {
   "cell_type": "code",
   "execution_count": 4,
   "id": "df40c2e1",
   "metadata": {},
   "outputs": [],
   "source": [
    "def get_cnt_after_15min(grid_df):\n",
    "    next15_cnt = []\n",
    "    for i in range(len(grid_df)):\n",
    "        next_time = grid_df.iloc[i]['datatim'] + datetime.timedelta(minutes = 15)\n",
    "        cnt_df = grid_df[grid_df['datatim'] == next_time]['cnt']\n",
    "        if cnt_df.empty:\n",
    "            cnt = np.nan\n",
    "        else:\n",
    "            cnt = cnt_df.iloc[0]\n",
    "            cnt = int(cnt)\n",
    "        next15_cnt.append(cnt)\n",
    "        \n",
    "    grid_df['next15_cnt'] = next15_cnt\n",
    "    grid_df = grid_df.dropna(axis=0,how='any')\n",
    "    grid_df['next15_cnt'] = grid_df['next15_cnt'].astype('int')\n",
    "    return grid_df"
   ]
  },
  {
   "cell_type": "markdown",
   "id": "e73b04c7",
   "metadata": {},
   "source": [
    "### Feature Selection"
   ]
  },
  {
   "cell_type": "code",
   "execution_count": 5,
   "id": "e152c8b8",
   "metadata": {},
   "outputs": [],
   "source": [
    "# eliminate: list format of useless attributes\n",
    "def feature_selection(X, eliminate):\n",
    "    list1 = X.columns.tolist()\n",
    "    list2 = eliminate\n",
    "    select = [i for i in list1 if i not in list2]\n",
    "    X_adj = X[select]\n",
    "    return X_adj"
   ]
  },
  {
   "cell_type": "markdown",
   "id": "70b243d3",
   "metadata": {},
   "source": [
    "### Data Preprocessing  (standardization or normalization)"
   ]
  },
  {
   "cell_type": "code",
   "execution_count": 6,
   "id": "9bb55fbc",
   "metadata": {},
   "outputs": [],
   "source": [
    "# no change or normalization or standardization\n",
    "def norm_or_stand(X, y, choice=None):\n",
    "    # convert the catrgorical variables into dummy variables\n",
    "    X_dum = pd.get_dummies(X)\n",
    "    # do standardization or normalization\n",
    "    if choice:\n",
    "        if choice == \"norm\":\n",
    "            scale_x = preprocessing.MinMaxScaler()\n",
    "            scale_y = preprocessing.MinMaxScaler() \n",
    "        if choice == 'stand':\n",
    "            scale_x = StandardScaler()\n",
    "            scale_y = StandardScaler()\n",
    "\n",
    "        X_dum = scale_x.fit_transform(X_dum)\n",
    "        y = np.array(y).reshape(-1,1)\n",
    "        y = scale_y.fit_transform(y)\n",
    "        y = y.ravel()\n",
    "        return X_dum, y, scale_y\n",
    "    else:\n",
    "        return X_dum, y"
   ]
  },
  {
   "cell_type": "markdown",
   "id": "f4658cb2",
   "metadata": {},
   "source": [
    "### Model Training"
   ]
  },
  {
   "cell_type": "code",
   "execution_count": 11,
   "id": "b4ddc6e1",
   "metadata": {
    "scrolled": true
   },
   "outputs": [],
   "source": [
    "# model training\n",
    "def all_model_train(X_dum, y, models, models_str, scale_y = None):\n",
    "    X_train,X_test,y_train,y_test = model_selection.train_test_split(X_dum,y,test_size = 0.25,random_state = 1)\n",
    "    score_=[] # A list to store all the score value of the model\n",
    "    mse_ = [] # A list to store all the MSE value of the model\n",
    "    mae_ = [] # A list to store all the MAE value of the model\n",
    "    r2_ = [] # A list to store all the R square value of the model\n",
    "    # A list to store the predicted y, if scale_y == None, scale_pred_y is the true prediction y, otherwise, \n",
    "    # the scale_pred_y is the prediction y after transformation\n",
    "    scale_pred_y = [] \n",
    "    # the true prediction y \n",
    "    prediction = []\n",
    "    \n",
    "    for name,model in zip(models_str,models):\n",
    "        model = model   #model building\n",
    "        model.fit(X_train,y_train)\n",
    "        y_pred = model.predict(X_test)\n",
    "        scale_pred_y.append(y_pred)\n",
    "        \n",
    "        # transform the scale y into the true prediction y\n",
    "        if scale_y:\n",
    "            y_pred_back = scale_y.inverse_transform(y_pred.reshape(-1, 1))\n",
    "            #print(y_pred_back)\n",
    "            prediction.append(y_pred_back)\n",
    "        else:\n",
    "            prediction = scale_pred_y\n",
    "            \n",
    "        score = model.score(X_test,y_test)\n",
    "        score_.append(str(score)[:5])\n",
    "        \n",
    "        # calculate the mean squared error of the model\n",
    "        mse = metrics.mean_squared_error(y_pred,y_test)\n",
    "        mse_.append(str(mse))\n",
    "        # calculate the mean absolute error of the model\n",
    "        mae = metrics.mean_absolute_error(y_pred,y_test)\n",
    "        mae_.append(str(mae))\n",
    "        # calculate R^2 of the model\n",
    "        r2 = metrics.r2_score(y_pred,y_test)\n",
    "        r2_.append(str(r2))\n",
    "        \n",
    "    df = pd.DataFrame({'Model':models_str,'Score':score_,'MSE':mse_,'MSA':mae_,'R-sqaured':r2_})\n",
    "    return df, prediction, y_test, X_test, scale_pred_y"
   ]
  },
  {
   "cell_type": "markdown",
   "id": "238dab68",
   "metadata": {},
   "source": [
    "### Whole Process"
   ]
  },
  {
   "cell_type": "code",
   "execution_count": 12,
   "id": "0392b965",
   "metadata": {},
   "outputs": [],
   "source": [
    "# eliminate: A list of attributes that need to be eliminate\n",
    "def crowdflow(df, grid_id, eliminate, choice=None):\n",
    "    # Select a specific grid id\n",
    "    df = df[df['grid_id'] == grid_id]\n",
    "    # Derive some categorical attributes from data time\n",
    "    df = add_element(df)\n",
    "    # Calculate crowd flow (cnt) after 15 mins\n",
    "    df = get_cnt_after_15min(df)\n",
    "    # X, y\n",
    "    X = df[['day_of_week','x','y','weekend','holiday','time','cnt']]\n",
    "    y = df[\"next15_cnt\"]\n",
    "    \n",
    "    # select the useful attributes \n",
    "    X = feature_selection(X, eliminate)\n",
    "    print('Using attributes:',X.columns.tolist())\n",
    "    print('data:', choice)\n",
    "    if choice:\n",
    "        X_dum, y, scale_y = norm_or_stand(X, y, choice)\n",
    "        outcome, pred, y_test, X_test, nor_pred_y = all_model_train(X_dum, y, models, models_str,scale_y)\n",
    "    else:\n",
    "        X_dum, y = norm_or_stand(X, y, choice)\n",
    "        outcome, pred, y_test, X_test, nor_pred_y = all_model_train(X_dum, y, models, models_str)\n",
    "    return outcome, pred, y_test, nor_pred_y"
   ]
  },
  {
   "cell_type": "code",
   "execution_count": 13,
   "id": "0cac42f8",
   "metadata": {},
   "outputs": [],
   "source": [
    "# attribute eliminate list\n",
    "selection = [[''],['day_of_week'],['weekend'],['holiday'],['time'],\n",
    "             ['day_of_week'],['x', 'y'],['weekend','holiday'],\n",
    "             ['day_of_week','x','y'], ['day_of_week','weekend','holiday'],['x','y','time']]\n",
    "\n",
    "#all candidate model\n",
    "models=[KNeighborsRegressor(),RandomForestRegressor(),GradientBoostingRegressor()]\n",
    "models_str=['KNNRegressor','RandomForest','GradientBoost']"
   ]
  },
  {
   "cell_type": "markdown",
   "id": "66bcee69",
   "metadata": {},
   "source": [
    "### Final Model"
   ]
  },
  {
   "cell_type": "code",
   "execution_count": 14,
   "id": "1e853cf0",
   "metadata": {},
   "outputs": [
    {
     "name": "stderr",
     "output_type": "stream",
     "text": [
      "/Users/wenyan/opt/anaconda3/lib/python3.8/site-packages/pandas/core/generic.py:5303: SettingWithCopyWarning: \n",
      "A value is trying to be set on a copy of a slice from a DataFrame.\n",
      "Try using .loc[row_indexer,col_indexer] = value instead\n",
      "\n",
      "See the caveats in the documentation: https://pandas.pydata.org/pandas-docs/stable/user_guide/indexing.html#returning-a-view-versus-a-copy\n",
      "  self[name] = value\n",
      "<ipython-input-4-66cf5162be66>:13: SettingWithCopyWarning: \n",
      "A value is trying to be set on a copy of a slice from a DataFrame.\n",
      "Try using .loc[row_indexer,col_indexer] = value instead\n",
      "\n",
      "See the caveats in the documentation: https://pandas.pydata.org/pandas-docs/stable/user_guide/indexing.html#returning-a-view-versus-a-copy\n",
      "  grid_df['next15_cnt'] = next15_cnt\n",
      "<ipython-input-4-66cf5162be66>:15: SettingWithCopyWarning: \n",
      "A value is trying to be set on a copy of a slice from a DataFrame.\n",
      "Try using .loc[row_indexer,col_indexer] = value instead\n",
      "\n",
      "See the caveats in the documentation: https://pandas.pydata.org/pandas-docs/stable/user_guide/indexing.html#returning-a-view-versus-a-copy\n",
      "  grid_df['next15_cnt'] = grid_df['next15_cnt'].astype('int')\n"
     ]
    },
    {
     "name": "stdout",
     "output_type": "stream",
     "text": [
      "Using attributes: ['day_of_week', 'x', 'y', 'holiday', 'time', 'cnt']\n",
      "data: norm\n"
     ]
    },
    {
     "data": {
      "text/html": [
       "<div>\n",
       "<style scoped>\n",
       "    .dataframe tbody tr th:only-of-type {\n",
       "        vertical-align: middle;\n",
       "    }\n",
       "\n",
       "    .dataframe tbody tr th {\n",
       "        vertical-align: top;\n",
       "    }\n",
       "\n",
       "    .dataframe thead th {\n",
       "        text-align: right;\n",
       "    }\n",
       "</style>\n",
       "<table border=\"1\" class=\"dataframe\">\n",
       "  <thead>\n",
       "    <tr style=\"text-align: right;\">\n",
       "      <th></th>\n",
       "      <th>Model</th>\n",
       "      <th>Score</th>\n",
       "      <th>MSE</th>\n",
       "      <th>MSA</th>\n",
       "      <th>R-sqaured</th>\n",
       "    </tr>\n",
       "  </thead>\n",
       "  <tbody>\n",
       "    <tr>\n",
       "      <th>0</th>\n",
       "      <td>KNNRegressor</td>\n",
       "      <td>0.958</td>\n",
       "      <td>0.00014645363796033774</td>\n",
       "      <td>0.007096626183619449</td>\n",
       "      <td>0.9554797789576976</td>\n",
       "    </tr>\n",
       "    <tr>\n",
       "      <th>1</th>\n",
       "      <td>RandomForest</td>\n",
       "      <td>0.959</td>\n",
       "      <td>0.00014163853728525272</td>\n",
       "      <td>0.006817629698968682</td>\n",
       "      <td>0.9574740564998182</td>\n",
       "    </tr>\n",
       "    <tr>\n",
       "      <th>2</th>\n",
       "      <td>GradientBoost</td>\n",
       "      <td>0.961</td>\n",
       "      <td>0.00013458859606905286</td>\n",
       "      <td>0.007174334107881755</td>\n",
       "      <td>0.9587227859368489</td>\n",
       "    </tr>\n",
       "  </tbody>\n",
       "</table>\n",
       "</div>"
      ],
      "text/plain": [
       "           Model  Score                     MSE                   MSA  \\\n",
       "0   KNNRegressor  0.958  0.00014645363796033774  0.007096626183619449   \n",
       "1   RandomForest  0.959  0.00014163853728525272  0.006817629698968682   \n",
       "2  GradientBoost  0.961  0.00013458859606905286  0.007174334107881755   \n",
       "\n",
       "            R-sqaured  \n",
       "0  0.9554797789576976  \n",
       "1  0.9574740564998182  \n",
       "2  0.9587227859368489  "
      ]
     },
     "execution_count": 14,
     "metadata": {},
     "output_type": "execute_result"
    }
   ],
   "source": [
    "out_no_weekend, pred, y_test, scale_pred_y = crowdflow(df, 5004, selection[2],'norm')\n",
    "out_no_weekend"
   ]
  },
  {
   "cell_type": "markdown",
   "id": "e4213cc0",
   "metadata": {},
   "source": [
    "### Prediction of the test dataset"
   ]
  },
  {
   "cell_type": "code",
   "execution_count": 15,
   "id": "97c84d2c",
   "metadata": {},
   "outputs": [
    {
     "data": {
      "text/plain": [
       "[array([[9311.4],\n",
       "        [5286.2],\n",
       "        [9108.8],\n",
       "        ...,\n",
       "        [7868.2],\n",
       "        [8121.8],\n",
       "        [7939. ]]),\n",
       " array([[9220.74],\n",
       "        [5661.3 ],\n",
       "        [9059.57],\n",
       "        ...,\n",
       "        [7780.83],\n",
       "        [8093.12],\n",
       "        [7831.69]]),\n",
       " array([[9234.95247135],\n",
       "        [5707.77751584],\n",
       "        [9105.63734676],\n",
       "        ...,\n",
       "        [7817.01114582],\n",
       "        [8090.46871577],\n",
       "        [7786.54919509]])]"
      ]
     },
     "execution_count": 15,
     "metadata": {},
     "output_type": "execute_result"
    }
   ],
   "source": [
    "pred"
   ]
  },
  {
   "cell_type": "markdown",
   "id": "148914d5",
   "metadata": {},
   "source": [
    "### Draw a heat map graph to show the relationship between the numerical attributes"
   ]
  },
  {
   "cell_type": "code",
   "execution_count": 17,
   "id": "578354b6",
   "metadata": {},
   "outputs": [
    {
     "name": "stderr",
     "output_type": "stream",
     "text": [
      "/Users/wenyan/opt/anaconda3/lib/python3.8/site-packages/pandas/core/generic.py:5303: SettingWithCopyWarning: \n",
      "A value is trying to be set on a copy of a slice from a DataFrame.\n",
      "Try using .loc[row_indexer,col_indexer] = value instead\n",
      "\n",
      "See the caveats in the documentation: https://pandas.pydata.org/pandas-docs/stable/user_guide/indexing.html#returning-a-view-versus-a-copy\n",
      "  self[name] = value\n",
      "<ipython-input-4-66cf5162be66>:13: SettingWithCopyWarning: \n",
      "A value is trying to be set on a copy of a slice from a DataFrame.\n",
      "Try using .loc[row_indexer,col_indexer] = value instead\n",
      "\n",
      "See the caveats in the documentation: https://pandas.pydata.org/pandas-docs/stable/user_guide/indexing.html#returning-a-view-versus-a-copy\n",
      "  grid_df['next15_cnt'] = next15_cnt\n",
      "<ipython-input-4-66cf5162be66>:15: SettingWithCopyWarning: \n",
      "A value is trying to be set on a copy of a slice from a DataFrame.\n",
      "Try using .loc[row_indexer,col_indexer] = value instead\n",
      "\n",
      "See the caveats in the documentation: https://pandas.pydata.org/pandas-docs/stable/user_guide/indexing.html#returning-a-view-versus-a-copy\n",
      "  grid_df['next15_cnt'] = grid_df['next15_cnt'].astype('int')\n"
     ]
    }
   ],
   "source": [
    "heat_map_df = df[df['grid_id'] == 5004]\n",
    "heat_map_df = add_element(heat_map_df)\n",
    "heat_map_df = get_cnt_after_15min(heat_map_df)\n",
    "heat_map_df = heat_map_df[['day_of_week','x','y','weekend','holiday','time','cnt','next15_cnt']]"
   ]
  },
  {
   "cell_type": "code",
   "execution_count": 21,
   "id": "8290c3bd",
   "metadata": {},
   "outputs": [
    {
     "data": {
      "text/plain": [
       "<matplotlib.axes._subplots.AxesSubplot at 0x7f959878c370>"
      ]
     },
     "execution_count": 21,
     "metadata": {},
     "output_type": "execute_result"
    },
    {
     "data": {
      "image/png": "[encoded data removed]",
      "text/plain": [
       "<Figure size 432x288 with 2 Axes>"
      ]
     },
     "metadata": {
      "needs_background": "light"
     },
     "output_type": "display_data"
    }
   ],
   "source": [
    "import seaborn as sns\n",
    "# correlation\n",
    "corr = heat_map_df.corr()\n",
    "# heat map graph\n",
    "sns.heatmap(corr, cmap='GnBu_r', square=True, annot=True,annot_kws={'size':8})\n",
    "# plt.savefig('heatmap.png')"
   ]
  },
  {
   "cell_type": "code",
   "execution_count": 25,
   "id": "9e0d002e",
   "metadata": {},
   "outputs": [
    {
     "data": {
      "text/plain": [
       "[array([0.72419678, 0.37372225, 0.70655638, ..., 0.59853722, 0.6206182 ,\n",
       "        0.60470178]),\n",
       " array([0.716303  , 0.40638224, 0.70226992, ..., 0.59092991, 0.61812103,\n",
       "        0.59535829]),\n",
       " array([0.71754049, 0.41042904, 0.70628101, ..., 0.5940802 , 0.61789018,\n",
       "        0.59142788])]"
      ]
     },
     "execution_count": 25,
     "metadata": {},
     "output_type": "execute_result"
    }
   ],
   "source": [
    "scale_pred_y"
   ]
  },
  {
   "cell_type": "code",
   "execution_count": 23,
   "id": "84852c4e",
   "metadata": {},
   "outputs": [
    {
     "data": {
      "text/plain": [
       "array([0.70587723, 0.3729212 , 0.70370048, ..., 0.58624293, 0.61532434,\n",
       "       0.58606879])"
      ]
     },
     "execution_count": 23,
     "metadata": {},
     "output_type": "execute_result"
    }
   ],
   "source": [
    "y_test"
   ]
  },
  {
   "cell_type": "markdown",
   "id": "f067903b",
   "metadata": {},
   "source": [
    "### Prediction Visualization"
   ]
  },
  {
   "cell_type": "code",
   "execution_count": 26,
   "id": "902260b7",
   "metadata": {},
   "outputs": [
    {
     "data": {
      "image/png": "[encoded data removed]",
      "text/plain": [
       "<Figure size 576x360 with 1 Axes>"
      ]
     },
     "metadata": {
      "needs_background": "light"
     },
     "output_type": "display_data"
    },
    {
     "data": {
      "image/png": "[encoded data removed]",
      "text/plain": [
       "<Figure size 576x360 with 1 Axes>"
      ]
     },
     "metadata": {
      "needs_background": "light"
     },
     "output_type": "display_data"
    },
    {
     "data": {
      "image/png": "[encoded data removed]",
      "text/plain": [
       "<Figure size 576x360 with 1 Axes>"
      ]
     },
     "metadata": {
      "needs_background": "light"
     },
     "output_type": "display_data"
    }
   ],
   "source": [
    "for i in range(len(scale_pred_y)):\n",
    "    plt.figure(figsize = (8,5))\n",
    "    plt.xlabel('Y_test')\n",
    "    plt.ylabel('Y_pred')\n",
    "    \n",
    "    plt.grid(False) \n",
    "    plt.scatter(y_test, scale_pred_y[i],  alpha=0.4)\n",
    "    plt.plot([0,1],[0,1],linewidth = '3',color='#000000')\n",
    "    plt.title(models_str[i])\n",
    "    plt.show()"
   ]
  },
  {
   "cell_type": "code",
   "execution_count": null,
   "id": "afd63166",
   "metadata": {},
   "outputs": [],
   "source": []
  }
 ],
 "metadata": {
  "kernelspec": {
   "display_name": "Python 3",
   "language": "python",
   "name": "python3"
  },
  "language_info": {
   "codemirror_mode": {
    "name": "ipython",
    "version": 3
   },
   "file_extension": ".py",
   "mimetype": "text/x-python",
   "name": "python",
   "nbconvert_exporter": "python",
   "pygments_lexer": "ipython3",
   "version": "3.7.6"
  }
 },
 "nbformat": 4,
 "nbformat_minor": 5
}
